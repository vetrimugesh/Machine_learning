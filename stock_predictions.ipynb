{
 "cells": [
  {
   "cell_type": "code",
   "execution_count": 1,
   "id": "4dada0d8",
   "metadata": {},
   "outputs": [],
   "source": [
    "import requests\n",
    "from bs4 import BeautifulSoup\n",
    "from datetime import datetime"
   ]
  },
  {
   "cell_type": "code",
   "execution_count": 2,
   "id": "86ba5aea",
   "metadata": {},
   "outputs": [
    {
     "name": "stdout",
     "output_type": "stream",
     "text": [
      "https://www.moneycontrol.com/india/stockpricequote/auto-lcvshcvs/eichermotors/EM\n"
     ]
    }
   ],
   "source": [
    "url = 'https://www.moneycontrol.com/india/stockpricequote/auto-lcvshcvs/eichermotors/EM'\n",
    "print(url)"
   ]
  },
  {
   "cell_type": "code",
   "execution_count": 3,
   "id": "10ad97ce",
   "metadata": {},
   "outputs": [
    {
     "name": "stdout",
     "output_type": "stream",
     "text": [
      "<Response [200]>\n"
     ]
    }
   ],
   "source": [
    "# Send a GET request to the URL\n",
    "response = requests.get(url)\n",
    "print(response)"
   ]
  },
  {
   "cell_type": "code",
   "execution_count": 4,
   "id": "7c5a94db",
   "metadata": {},
   "outputs": [],
   "source": [
    "# Parse the HTML content using BeautifulSoup\n",
    "soup = BeautifulSoup(response.content, 'html.parser')\n",
    "#print(soup)"
   ]
  },
  {
   "cell_type": "code",
   "execution_count": 5,
   "id": "3baaca24",
   "metadata": {},
   "outputs": [
    {
     "name": "stdout",
     "output_type": "stream",
     "text": [
      "<div class=\"inprice1 nsecp\" id=\"nsecp\" rel=\"3291.65\">3,291.65</div>\n"
     ]
    }
   ],
   "source": [
    "# Find the element containing the live stock price\n",
    "price_element = soup.find('div', {'class': 'inprice1'})\n",
    "print(price_element)"
   ]
  },
  {
   "cell_type": "code",
   "execution_count": 6,
   "id": "cb70534c",
   "metadata": {},
   "outputs": [
    {
     "name": "stdout",
     "output_type": "stream",
     "text": [
      "Eicher Motors (EM) stock price: 3,291.65\n"
     ]
    }
   ],
   "source": [
    "# Extract the stock price text\n",
    "stock_price = price_element.text.strip()\n",
    "\n",
    "# Print the live stock price\n",
    "print(\"Eicher Motors (EM) stock price:\", stock_price)"
   ]
  },
  {
   "cell_type": "code",
   "execution_count": 7,
   "id": "3b483859",
   "metadata": {},
   "outputs": [
    {
     "name": "stdout",
     "output_type": "stream",
     "text": [
      "Date: 2023-07-12 17:37:48\n"
     ]
    }
   ],
   "source": [
    "# Get the current date and time\n",
    "current_datetime = datetime.now().strftime('%Y-%m-%d %H:%M:%S')\n",
    "\n",
    "# Print the date, time, and stock price\n",
    "print(\"Date:\", current_datetime)\n"
   ]
  },
  {
   "cell_type": "code",
   "execution_count": null,
   "id": "a0a2db98",
   "metadata": {},
   "outputs": [],
   "source": []
  }
 ],
 "metadata": {
  "kernelspec": {
   "display_name": "Python 3 (ipykernel)",
   "language": "python",
   "name": "python3"
  },
  "language_info": {
   "codemirror_mode": {
    "name": "ipython",
    "version": 3
   },
   "file_extension": ".py",
   "mimetype": "text/x-python",
   "name": "python",
   "nbconvert_exporter": "python",
   "pygments_lexer": "ipython3",
   "version": "3.9.12"
  }
 },
 "nbformat": 4,
 "nbformat_minor": 5
}
