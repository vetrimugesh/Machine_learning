{
 "cells": [
  {
   "cell_type": "code",
   "execution_count": 1,
   "id": "58653cc9",
   "metadata": {},
   "outputs": [],
   "source": [
    "import requests\n",
    "from bs4 import BeautifulSoup"
   ]
  },
  {
   "cell_type": "code",
   "execution_count": 2,
   "id": "818b36a4",
   "metadata": {},
   "outputs": [
    {
     "name": "stdout",
     "output_type": "stream",
     "text": [
      "https://www.moneycontrol.com/india/stockpricequote/auto-lcvshcvs/eichermotors/EM\n"
     ]
    }
   ],
   "source": [
    "url = 'https://www.moneycontrol.com/india/stockpricequote/auto-lcvshcvs/eichermotors/EM'\n",
    "print(url)"
   ]
  },
  {
   "cell_type": "code",
   "execution_count": 3,
   "id": "d8dbcb86",
   "metadata": {},
   "outputs": [
    {
     "name": "stdout",
     "output_type": "stream",
     "text": [
      "<Response [200]>\n"
     ]
    }
   ],
   "source": [
    "# Send a GET request to the URL\n",
    "response = requests.get(url)\n",
    "print(response)"
   ]
  },
  {
   "cell_type": "code",
   "execution_count": 4,
   "id": "fedddbfe",
   "metadata": {},
   "outputs": [],
   "source": [
    "# Parse the HTML content using BeautifulSoup\n",
    "soup = BeautifulSoup(response.content, 'html.parser')\n",
    "#print(soup)"
   ]
  },
  {
   "cell_type": "code",
   "execution_count": 8,
   "id": "942fbcef",
   "metadata": {},
   "outputs": [
    {
     "name": "stdout",
     "output_type": "stream",
     "text": [
      "<div class=\"inprice1 nsecp\" id=\"nsecp\" rel=\"3291.65\">3,291.65</div>\n"
     ]
    }
   ],
   "source": [
    "# Find the element containing the live stock price\n",
    "price_element = soup.find('div', {'class': 'inprice1'})\n",
    "print(price_element)"
   ]
  },
  {
   "cell_type": "code",
   "execution_count": 11,
   "id": "d2d42fb1",
   "metadata": {},
   "outputs": [
    {
     "name": "stdout",
     "output_type": "stream",
     "text": [
      "Eicher Motors (EM) stock price: 3,291.65\n"
     ]
    }
   ],
   "source": [
    "# Extract the stock price text\n",
    "stock_price = price_element.text.strip()\n",
    "\n",
    "# Print the live stock price\n",
    "print(\"Eicher Motors (EM) stock price:\", stock_price)"
   ]
  },
  {
   "cell_type": "code",
   "execution_count": null,
   "id": "6b6bf6fa",
   "metadata": {},
   "outputs": [],
   "source": []
  }
 ],
 "metadata": {
  "kernelspec": {
   "display_name": "Python 3 (ipykernel)",
   "language": "python",
   "name": "python3"
  },
  "language_info": {
   "codemirror_mode": {
    "name": "ipython",
    "version": 3
   },
   "file_extension": ".py",
   "mimetype": "text/x-python",
   "name": "python",
   "nbconvert_exporter": "python",
   "pygments_lexer": "ipython3",
   "version": "3.9.12"
  }
 },
 "nbformat": 4,
 "nbformat_minor": 5
}
