{
 "cells": [
  {
   "cell_type": "code",
   "execution_count": 2,
   "id": "751abe0a",
   "metadata": {},
   "outputs": [],
   "source": [
    "import chromedriver_autoinstaller\n",
    "import selenium.webdriver as webdriver\n",
    "\n",
    "# Use chromedriver_autoinstaller to install and set up ChromeDriver\n",
    "chromedriver_autoinstaller.install()\n",
    "\n",
    "# Create a WebDriver instance\n",
    "driver = webdriver.Chrome()\n",
    "\n",
    "website = 'https://www.moneycontrol.com/india/stockpricequote/power-transmissionequipment/adanitransmission/AT22'\n",
    "driver.get(website)"
   ]
  },
  {
   "cell_type": "code",
   "execution_count": null,
   "id": "e16d972e",
   "metadata": {},
   "outputs": [
    {
     "name": "stdout",
     "output_type": "stream",
     "text": [
      "Stock Price: 787.80\n",
      "Stock Price: 787.80\n",
      "Stock Price: 787.80\n",
      "Stock Price: 787.45\n",
      "Stock Price: 787.45\n",
      "Stock Price: 787.45\n",
      "Stock Price: 787.45\n",
      "Stock Price: 787.45\n",
      "Stock Price: 787.45\n",
      "Stock Price: 787.45\n",
      "Stock Price: 787.45\n",
      "Stock Price: 787.45\n",
      "Stock Price: 787.45\n",
      "Stock Price: 787.45\n",
      "Stock Price: 787.45\n",
      "Stock Price: 787.45\n",
      "Stock Price: 787.45\n",
      "Stock Price: 787.85\n",
      "Stock Price: 787.85\n",
      "Stock Price: 787.85\n",
      "Stock Price: 787.85\n",
      "Stock Price: 787.85\n",
      "Stock Price: 787.70\n",
      "Stock Price: 787.70\n",
      "Stock Price: 787.70\n",
      "Stock Price: 787.70\n",
      "Stock Price: 787.70\n",
      "Stock Price: 787.70\n",
      "Stock Price: 787.70\n",
      "Stock Price: 787.70\n",
      "Stock Price: 787.70\n",
      "Stock Price: 787.70\n",
      "Stock Price: 787.70\n",
      "Stock Price: 787.70\n",
      "Stock Price: 787.70\n",
      "Stock Price: 787.70\n",
      "Stock Price: 787.45\n",
      "Stock Price: 787.45\n",
      "Stock Price: 787.45\n",
      "Stock Price: 787.45\n",
      "Stock Price: 787.45\n",
      "Stock Price: 787.45\n",
      "Stock Price: 787.45\n",
      "Stock Price: 787.45\n"
     ]
    }
   ],
   "source": [
    "import time\n",
    "from selenium import webdriver\n",
    "from selenium.webdriver.common.by import By\n",
    "\n",
    "# Set up the ChromeDriver with options\n",
    "options = webdriver.ChromeOptions()\n",
    "driver = webdriver.Chrome(options=options)\n",
    "\n",
    "# Navigate to the website\n",
    "driver.get('https://www.moneycontrol.com/india/stockpricequote/power-transmissionequipment/adanitransmission/AT22')\n",
    "\n",
    "while True:\n",
    "    # Locate the stock price element\n",
    "    stock_price_element = driver.find_element(By.XPATH, '//div[@id=\"nsecp\"]')\n",
    "\n",
    "    # Extract the stock price\n",
    "    stock_price = stock_price_element.get_attribute('data-numberanimate-value')\n",
    "\n",
    "    # Print the scraped stock price\n",
    "    print('Stock Price:', stock_price)\n",
    "\n",
    "    # Wait for 1 second\n",
    "    time.sleep(1)\n",
    "\n",
    "# Close the browser\n",
    "driver.quit()\n"
   ]
  },
  {
   "cell_type": "code",
   "execution_count": null,
   "id": "4475ac3c",
   "metadata": {},
   "outputs": [],
   "source": []
  }
 ],
 "metadata": {
  "kernelspec": {
   "display_name": "Python 3 (ipykernel)",
   "language": "python",
   "name": "python3"
  },
  "language_info": {
   "codemirror_mode": {
    "name": "ipython",
    "version": 3
   },
   "file_extension": ".py",
   "mimetype": "text/x-python",
   "name": "python",
   "nbconvert_exporter": "python",
   "pygments_lexer": "ipython3",
   "version": "3.9.12"
  }
 },
 "nbformat": 4,
 "nbformat_minor": 5
}
