{
 "cells": [
  {
   "cell_type": "code",
   "execution_count": 1,
   "id": "9b0901db",
   "metadata": {},
   "outputs": [],
   "source": [
    "from sklearn.neighbors import KNeighborsClassifier\n",
    "from sklearn.model_selection import train_test_split\n",
    "import pandas as pd\n",
    "import numpy as np\n",
    "import matplotlib.pyplot as plt"
   ]
  },
  {
   "cell_type": "code",
   "execution_count": 3,
   "id": "512dedee",
   "metadata": {},
   "outputs": [
    {
     "data": {
      "text/html": [
       "<div>\n",
       "<style scoped>\n",
       "    .dataframe tbody tr th:only-of-type {\n",
       "        vertical-align: middle;\n",
       "    }\n",
       "\n",
       "    .dataframe tbody tr th {\n",
       "        vertical-align: top;\n",
       "    }\n",
       "\n",
       "    .dataframe thead th {\n",
       "        text-align: right;\n",
       "    }\n",
       "</style>\n",
       "<table border=\"1\" class=\"dataframe\">\n",
       "  <thead>\n",
       "    <tr style=\"text-align: right;\">\n",
       "      <th></th>\n",
       "      <th>Price</th>\n",
       "      <th>Year</th>\n",
       "      <th>Mileage</th>\n",
       "      <th>City</th>\n",
       "      <th>State</th>\n",
       "      <th>Vin</th>\n",
       "      <th>Make</th>\n",
       "      <th>Model</th>\n",
       "    </tr>\n",
       "  </thead>\n",
       "  <tbody>\n",
       "    <tr>\n",
       "      <th>0</th>\n",
       "      <td>8995</td>\n",
       "      <td>2014</td>\n",
       "      <td>35725</td>\n",
       "      <td>El Paso</td>\n",
       "      <td>TX</td>\n",
       "      <td>19VDE2E53EE000083</td>\n",
       "      <td>Acura</td>\n",
       "      <td>ILX6-Speed</td>\n",
       "    </tr>\n",
       "    <tr>\n",
       "      <th>1</th>\n",
       "      <td>10888</td>\n",
       "      <td>2013</td>\n",
       "      <td>19606</td>\n",
       "      <td>Long Island City</td>\n",
       "      <td>NY</td>\n",
       "      <td>19VDE1F52DE012636</td>\n",
       "      <td>Acura</td>\n",
       "      <td>ILX5-Speed</td>\n",
       "    </tr>\n",
       "    <tr>\n",
       "      <th>2</th>\n",
       "      <td>8995</td>\n",
       "      <td>2013</td>\n",
       "      <td>48851</td>\n",
       "      <td>El Paso</td>\n",
       "      <td>TX</td>\n",
       "      <td>19VDE2E52DE000025</td>\n",
       "      <td>Acura</td>\n",
       "      <td>ILX6-Speed</td>\n",
       "    </tr>\n",
       "    <tr>\n",
       "      <th>3</th>\n",
       "      <td>10999</td>\n",
       "      <td>2014</td>\n",
       "      <td>39922</td>\n",
       "      <td>Windsor</td>\n",
       "      <td>CO</td>\n",
       "      <td>19VDE1F71EE003817</td>\n",
       "      <td>Acura</td>\n",
       "      <td>ILX5-Speed</td>\n",
       "    </tr>\n",
       "    <tr>\n",
       "      <th>4</th>\n",
       "      <td>14799</td>\n",
       "      <td>2016</td>\n",
       "      <td>22142</td>\n",
       "      <td>Lindon</td>\n",
       "      <td>UT</td>\n",
       "      <td>19UDE2F32GA001284</td>\n",
       "      <td>Acura</td>\n",
       "      <td>ILXAutomatic</td>\n",
       "    </tr>\n",
       "    <tr>\n",
       "      <th>...</th>\n",
       "      <td>...</td>\n",
       "      <td>...</td>\n",
       "      <td>...</td>\n",
       "      <td>...</td>\n",
       "      <td>...</td>\n",
       "      <td>...</td>\n",
       "      <td>...</td>\n",
       "      <td>...</td>\n",
       "    </tr>\n",
       "    <tr>\n",
       "      <th>852117</th>\n",
       "      <td>63215</td>\n",
       "      <td>2017</td>\n",
       "      <td>9</td>\n",
       "      <td>Culver City</td>\n",
       "      <td>CA</td>\n",
       "      <td>YV1A22MK9H1013237</td>\n",
       "      <td>Volvo</td>\n",
       "      <td>S90T6</td>\n",
       "    </tr>\n",
       "    <tr>\n",
       "      <th>852118</th>\n",
       "      <td>72260</td>\n",
       "      <td>2017</td>\n",
       "      <td>3201</td>\n",
       "      <td>Englewood</td>\n",
       "      <td>NJ</td>\n",
       "      <td>YV4A22PL3H1186162</td>\n",
       "      <td>Volvo</td>\n",
       "      <td>XC90T6</td>\n",
       "    </tr>\n",
       "    <tr>\n",
       "      <th>852119</th>\n",
       "      <td>55999</td>\n",
       "      <td>2016</td>\n",
       "      <td>28941</td>\n",
       "      <td>Fort Collins</td>\n",
       "      <td>CO</td>\n",
       "      <td>YV4A22PL4G1000868</td>\n",
       "      <td>Volvo</td>\n",
       "      <td>XC90AWD</td>\n",
       "    </tr>\n",
       "    <tr>\n",
       "      <th>852120</th>\n",
       "      <td>60240</td>\n",
       "      <td>2017</td>\n",
       "      <td>3005</td>\n",
       "      <td>San Leandro</td>\n",
       "      <td>CA</td>\n",
       "      <td>YV4A22NLXH1006162</td>\n",
       "      <td>Volvo</td>\n",
       "      <td>V90</td>\n",
       "    </tr>\n",
       "    <tr>\n",
       "      <th>852121</th>\n",
       "      <td>76995</td>\n",
       "      <td>2017</td>\n",
       "      <td>2502</td>\n",
       "      <td>New York</td>\n",
       "      <td>NY</td>\n",
       "      <td>YV4BC0ZX1H1109845</td>\n",
       "      <td>Volvo</td>\n",
       "      <td>XC90T8</td>\n",
       "    </tr>\n",
       "  </tbody>\n",
       "</table>\n",
       "<p>852122 rows × 8 columns</p>\n",
       "</div>"
      ],
      "text/plain": [
       "        Price  Year  Mileage              City State                Vin  \\\n",
       "0        8995  2014    35725           El Paso    TX  19VDE2E53EE000083   \n",
       "1       10888  2013    19606  Long Island City    NY  19VDE1F52DE012636   \n",
       "2        8995  2013    48851           El Paso    TX  19VDE2E52DE000025   \n",
       "3       10999  2014    39922           Windsor    CO  19VDE1F71EE003817   \n",
       "4       14799  2016    22142            Lindon    UT  19UDE2F32GA001284   \n",
       "...       ...   ...      ...               ...   ...                ...   \n",
       "852117  63215  2017        9       Culver City    CA  YV1A22MK9H1013237   \n",
       "852118  72260  2017     3201         Englewood    NJ  YV4A22PL3H1186162   \n",
       "852119  55999  2016    28941      Fort Collins    CO  YV4A22PL4G1000868   \n",
       "852120  60240  2017     3005       San Leandro    CA  YV4A22NLXH1006162   \n",
       "852121  76995  2017     2502          New York    NY  YV4BC0ZX1H1109845   \n",
       "\n",
       "         Make         Model  \n",
       "0       Acura    ILX6-Speed  \n",
       "1       Acura    ILX5-Speed  \n",
       "2       Acura    ILX6-Speed  \n",
       "3       Acura    ILX5-Speed  \n",
       "4       Acura  ILXAutomatic  \n",
       "...       ...           ...  \n",
       "852117  Volvo         S90T6  \n",
       "852118  Volvo        XC90T6  \n",
       "852119  Volvo       XC90AWD  \n",
       "852120  Volvo           V90  \n",
       "852121  Volvo        XC90T8  \n",
       "\n",
       "[852122 rows x 8 columns]"
      ]
     },
     "execution_count": 3,
     "metadata": {},
     "output_type": "execute_result"
    }
   ],
   "source": [
    "data = pd.read_csv('true_car_listings.csv')\n",
    "data"
   ]
  },
  {
   "cell_type": "code",
   "execution_count": 9,
   "id": "aa59ad72",
   "metadata": {},
   "outputs": [
    {
     "name": "stderr",
     "output_type": "stream",
     "text": [
      "/home/vetri/anaconda3/lib/python3.9/site-packages/sklearn/neighbors/_classification.py:228: DataConversionWarning: A column-vector y was passed when a 1d array was expected. Please change the shape of y to (n_samples,), for example using ravel().\n",
      "  return self._fit(X, y)\n"
     ]
    },
    {
     "data": {
      "text/html": [
       "<style>#sk-container-id-2 {color: black;}#sk-container-id-2 pre{padding: 0;}#sk-container-id-2 div.sk-toggleable {background-color: white;}#sk-container-id-2 label.sk-toggleable__label {cursor: pointer;display: block;width: 100%;margin-bottom: 0;padding: 0.3em;box-sizing: border-box;text-align: center;}#sk-container-id-2 label.sk-toggleable__label-arrow:before {content: \"▸\";float: left;margin-right: 0.25em;color: #696969;}#sk-container-id-2 label.sk-toggleable__label-arrow:hover:before {color: black;}#sk-container-id-2 div.sk-estimator:hover label.sk-toggleable__label-arrow:before {color: black;}#sk-container-id-2 div.sk-toggleable__content {max-height: 0;max-width: 0;overflow: hidden;text-align: left;background-color: #f0f8ff;}#sk-container-id-2 div.sk-toggleable__content pre {margin: 0.2em;color: black;border-radius: 0.25em;background-color: #f0f8ff;}#sk-container-id-2 input.sk-toggleable__control:checked~div.sk-toggleable__content {max-height: 200px;max-width: 100%;overflow: auto;}#sk-container-id-2 input.sk-toggleable__control:checked~label.sk-toggleable__label-arrow:before {content: \"▾\";}#sk-container-id-2 div.sk-estimator input.sk-toggleable__control:checked~label.sk-toggleable__label {background-color: #d4ebff;}#sk-container-id-2 div.sk-label input.sk-toggleable__control:checked~label.sk-toggleable__label {background-color: #d4ebff;}#sk-container-id-2 input.sk-hidden--visually {border: 0;clip: rect(1px 1px 1px 1px);clip: rect(1px, 1px, 1px, 1px);height: 1px;margin: -1px;overflow: hidden;padding: 0;position: absolute;width: 1px;}#sk-container-id-2 div.sk-estimator {font-family: monospace;background-color: #f0f8ff;border: 1px dotted black;border-radius: 0.25em;box-sizing: border-box;margin-bottom: 0.5em;}#sk-container-id-2 div.sk-estimator:hover {background-color: #d4ebff;}#sk-container-id-2 div.sk-parallel-item::after {content: \"\";width: 100%;border-bottom: 1px solid gray;flex-grow: 1;}#sk-container-id-2 div.sk-label:hover label.sk-toggleable__label {background-color: #d4ebff;}#sk-container-id-2 div.sk-serial::before {content: \"\";position: absolute;border-left: 1px solid gray;box-sizing: border-box;top: 0;bottom: 0;left: 50%;z-index: 0;}#sk-container-id-2 div.sk-serial {display: flex;flex-direction: column;align-items: center;background-color: white;padding-right: 0.2em;padding-left: 0.2em;position: relative;}#sk-container-id-2 div.sk-item {position: relative;z-index: 1;}#sk-container-id-2 div.sk-parallel {display: flex;align-items: stretch;justify-content: center;background-color: white;position: relative;}#sk-container-id-2 div.sk-item::before, #sk-container-id-2 div.sk-parallel-item::before {content: \"\";position: absolute;border-left: 1px solid gray;box-sizing: border-box;top: 0;bottom: 0;left: 50%;z-index: -1;}#sk-container-id-2 div.sk-parallel-item {display: flex;flex-direction: column;z-index: 1;position: relative;background-color: white;}#sk-container-id-2 div.sk-parallel-item:first-child::after {align-self: flex-end;width: 50%;}#sk-container-id-2 div.sk-parallel-item:last-child::after {align-self: flex-start;width: 50%;}#sk-container-id-2 div.sk-parallel-item:only-child::after {width: 0;}#sk-container-id-2 div.sk-dashed-wrapped {border: 1px dashed gray;margin: 0 0.4em 0.5em 0.4em;box-sizing: border-box;padding-bottom: 0.4em;background-color: white;}#sk-container-id-2 div.sk-label label {font-family: monospace;font-weight: bold;display: inline-block;line-height: 1.2em;}#sk-container-id-2 div.sk-label-container {text-align: center;}#sk-container-id-2 div.sk-container {/* jupyter's `normalize.less` sets `[hidden] { display: none; }` but bootstrap.min.css set `[hidden] { display: none !important; }` so we also need the `!important` here to be able to override the default hidden behavior on the sphinx rendered scikit-learn.org. See: https://github.com/scikit-learn/scikit-learn/issues/21755 */display: inline-block !important;position: relative;}#sk-container-id-2 div.sk-text-repr-fallback {display: none;}</style><div id=\"sk-container-id-2\" class=\"sk-top-container\"><div class=\"sk-text-repr-fallback\"><pre>KNeighborsClassifier()</pre><b>In a Jupyter environment, please rerun this cell to show the HTML representation or trust the notebook. <br />On GitHub, the HTML representation is unable to render, please try loading this page with nbviewer.org.</b></div><div class=\"sk-container\" hidden><div class=\"sk-item\"><div class=\"sk-estimator sk-toggleable\"><input class=\"sk-toggleable__control sk-hidden--visually\" id=\"sk-estimator-id-2\" type=\"checkbox\" checked><label for=\"sk-estimator-id-2\" class=\"sk-toggleable__label sk-toggleable__label-arrow\">KNeighborsClassifier</label><div class=\"sk-toggleable__content\"><pre>KNeighborsClassifier()</pre></div></div></div></div></div>"
      ],
      "text/plain": [
       "KNeighborsClassifier()"
      ]
     },
     "execution_count": 9,
     "metadata": {},
     "output_type": "execute_result"
    }
   ],
   "source": [
    "x = data[['Price', 'Year', 'Mileage']]\n",
    "y = data['Make']  # Extracting as a Series instead of DataFrame\n",
    "\n",
    "# Convert y to a 1D array using ravel()\n",
    "y = y.values.ravel()\n",
    "\n",
    "model = KNeighborsClassifier()\n",
    "\n",
    "x_train, x_test, y_train, y_test = train_test_split(x, y, train_size=0.8, test_size=0.2, random_state=50)\n",
    "\n",
    "model.fit(x_train, y_train)\n"
   ]
  },
  {
   "cell_type": "code",
   "execution_count": 11,
   "id": "9b43e905",
   "metadata": {},
   "outputs": [
    {
     "name": "stdout",
     "output_type": "stream",
     "text": [
      "Enter the price: 100000\n",
      "Enter the year of the car: 300\n",
      "Enter the mileage of the car: 30000\n",
      "Predicted make: Honda\n"
     ]
    },
    {
     "name": "stderr",
     "output_type": "stream",
     "text": [
      "/home/vetri/anaconda3/lib/python3.9/site-packages/sklearn/base.py:464: UserWarning: X does not have valid feature names, but KNeighborsClassifier was fitted with feature names\n",
      "  warnings.warn(\n"
     ]
    }
   ],
   "source": [
    "# User input\n",
    "price = int(input(\"Enter the price: \"))\n",
    "year = int(input(\"Enter the year of the car: \"))\n",
    "mileage = int(input(\"Enter the mileage of the car: \"))\n",
    "\n",
    "prediction = model.predict([[price, year, mileage]])\n",
    "print(f\"Predicted make: {prediction[0]}\")\n"
   ]
  },
  {
   "cell_type": "code",
   "execution_count": 14,
   "id": "95173d7d",
   "metadata": {},
   "outputs": [
    {
     "data": {
      "image/png": "[encoded data removed]",
      "text/plain": [
       "<Figure size 800x800 with 1 Axes>"
      ]
     },
     "metadata": {},
     "output_type": "display_data"
    }
   ],
   "source": [
    "predicted_makes, counts = np.unique(prediction, return_counts=True)\n",
    "plt.figure(figsize=(8, 8))\n",
    "plt.pie(counts, labels=predicted_makes, autopct='%1.1f%%')\n",
    "plt.title('Predicted Car Make Distribution')\n",
    "plt.show()"
   ]
  },
  {
   "cell_type": "code",
   "execution_count": null,
   "id": "bbdcf379",
   "metadata": {},
   "outputs": [],
   "source": []
  }
 ],
 "metadata": {
  "kernelspec": {
   "display_name": "Python 3 (ipykernel)",
   "language": "python",
   "name": "python3"
  },
  "language_info": {
   "codemirror_mode": {
    "name": "ipython",
    "version": 3
   },
   "file_extension": ".py",
   "mimetype": "text/x-python",
   "name": "python",
   "nbconvert_exporter": "python",
   "pygments_lexer": "ipython3",
   "version": "3.9.13"
  }
 },
 "nbformat": 4,
 "nbformat_minor": 5
}
